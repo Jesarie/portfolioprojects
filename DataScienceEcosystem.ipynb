{
 "cells": [
  {
   "cell_type": "markdown",
   "id": "d29af7e4",
   "metadata": {},
   "source": [
    "# Data Science Tools and Ecosystem"
   ]
  },
  {
   "cell_type": "markdown",
   "id": "b46fdeea",
   "metadata": {},
   "source": [
    "###### In this notebook, Data Science Tools and Ecosystem are summarized."
   ]
  },
  {
   "cell_type": "markdown",
   "id": "8ec1461b",
   "metadata": {},
   "source": [
    "#### <b>Objectives: </b>\n",
    "    - List popular languages for Data Science\n",
    "    - List commonly used libraries by Data Scientists\n",
    "    - List Data Science tools\n",
    "    - Evaluating simple arithmetic expressions\n",
    "    - Practicing markdowns"
   ]
  },
  {
   "cell_type": "markdown",
   "id": "537b694a",
   "metadata": {},
   "source": [
    "#### Some of the popular languages that Data Scientists use are:\n",
    "\n",
    "1. Python\n",
    "1. R\n",
    "1. SQL\n",
    "1. Java\n",
    "1. Julia\n",
    "1. C/C++"
   ]
  },
  {
   "cell_type": "markdown",
   "id": "e483cd9d",
   "metadata": {},
   "source": [
    "#### Some of the commonly used libraries used by Data Scientists include:\n",
    "1. Numpy\n",
    "1. Scipy\n",
    "1. Pandas\n",
    "1. Matplotlib\n",
    "1. PyTorch\n",
    "1. Tensorflow"
   ]
  },
  {
   "cell_type": "markdown",
   "id": "16de8740",
   "metadata": {},
   "source": [
    "|Data Science Tools|\n",
    "|:---|\n",
    "|1. RStudio|\n",
    "|2. Apache Spark|\n",
    "|3. TensorFlow|"
   ]
  },
  {
   "cell_type": "markdown",
   "id": "e720787c",
   "metadata": {},
   "source": [
    "### Below are a few examples of evaluating arithmetic expressions in Python"
   ]
  },
  {
   "cell_type": "code",
   "execution_count": 11,
   "id": "c7717778",
   "metadata": {},
   "outputs": [
    {
     "data": {
      "text/plain": [
       "17"
      ]
     },
     "execution_count": 11,
     "metadata": {},
     "output_type": "execute_result"
    }
   ],
   "source": [
    "# This a simple arithmetic expression to mutiply then add integers\n",
    "(3*4)+5"
   ]
  },
  {
   "cell_type": "code",
   "execution_count": 27,
   "id": "63cf1051",
   "metadata": {},
   "outputs": [
    {
     "name": "stdout",
     "output_type": "stream",
     "text": [
      "3.3 hours\n"
     ]
    }
   ],
   "source": [
    "# This will convert 200 minutes to hours by diving by 60\n",
    "time = 200/60\n",
    "print(round(time,1),'hours')"
   ]
  },
  {
   "cell_type": "markdown",
   "id": "1e7d0dab",
   "metadata": {},
   "source": [
    "## Author\n",
    "Omosalewa Arubayi"
   ]
  }
 ],
 "metadata": {
  "kernelspec": {
   "display_name": "Python 3 (ipykernel)",
   "language": "python",
   "name": "python3"
  },
  "language_info": {
   "codemirror_mode": {
    "name": "ipython",
    "version": 3
   },
   "file_extension": ".py",
   "mimetype": "text/x-python",
   "name": "python",
   "nbconvert_exporter": "python",
   "pygments_lexer": "ipython3",
   "version": "3.10.9"
  }
 },
 "nbformat": 4,
 "nbformat_minor": 5
}
